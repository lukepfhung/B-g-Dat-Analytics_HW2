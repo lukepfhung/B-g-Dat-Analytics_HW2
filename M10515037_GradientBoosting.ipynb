{
 "cells": [
  {
   "cell_type": "code",
   "execution_count": 1,
   "metadata": {},
   "outputs": [
    {
     "name": "stderr",
     "output_type": "stream",
     "text": [
      "/home/luke_ubuntu/anaconda2/lib/python2.7/site-packages/sklearn/cross_validation.py:44: DeprecationWarning: This module was deprecated in version 0.18 in favor of the model_selection module into which all the refactored classes and functions are moved. Also note that the interface of the new CV iterators are different from that of this module. This module will be removed in 0.20.\n",
      "  \"This module will be removed in 0.20.\", DeprecationWarning)\n",
      "/home/luke_ubuntu/anaconda2/lib/python2.7/site-packages/sklearn/grid_search.py:43: DeprecationWarning: This module was deprecated in version 0.18 in favor of the model_selection module into which all the refactored classes and functions are moved. This module will be removed in 0.20.\n",
      "  DeprecationWarning)\n"
     ]
    }
   ],
   "source": [
    "import pandas as pd\n",
    "import numpy as np\n",
    "from sklearn.ensemble import GradientBoostingClassifier\n",
    "from sklearn.grid_search import GridSearchCV\n",
    "train = pd.read_csv('./LargeTrain.csv')\n",
    "train['Class'] = [ i - 1 for i in train['Class']]\n",
    "target = 'Class'\n",
    "predictors = [x for x in train.columns if x not in target]"
   ]
  },
  {
   "cell_type": "code",
   "execution_count": 2,
   "metadata": {},
   "outputs": [
    {
     "name": "stdout",
     "output_type": "stream",
     "text": [
      "Fitting 3 folds for each of 16 candidates, totalling 48 fits\n"
     ]
    },
    {
     "name": "stderr",
     "output_type": "stream",
     "text": [
      "[Parallel(n_jobs=4)]: Done  24 tasks      | elapsed:  2.2min\n",
      "[Parallel(n_jobs=4)]: Done  48 out of  48 | elapsed:  5.7min finished\n"
     ]
    },
    {
     "data": {
      "text/plain": [
       "([mean: 0.98353, std: 0.00187, params: {'min_samples_split': 200, 'max_depth': 5},\n",
       "  mean: 0.98140, std: 0.00180, params: {'min_samples_split': 400, 'max_depth': 5},\n",
       "  mean: 0.97872, std: 0.00122, params: {'min_samples_split': 600, 'max_depth': 5},\n",
       "  mean: 0.97903, std: 0.00085, params: {'min_samples_split': 800, 'max_depth': 5},\n",
       "  mean: 0.98527, std: 0.00221, params: {'min_samples_split': 200, 'max_depth': 7},\n",
       "  mean: 0.98249, std: 0.00153, params: {'min_samples_split': 400, 'max_depth': 7},\n",
       "  mean: 0.98055, std: 0.00155, params: {'min_samples_split': 600, 'max_depth': 7},\n",
       "  mean: 0.97888, std: 0.00122, params: {'min_samples_split': 800, 'max_depth': 7},\n",
       "  mean: 0.98531, std: 0.00202, params: {'min_samples_split': 200, 'max_depth': 9},\n",
       "  mean: 0.98337, std: 0.00191, params: {'min_samples_split': 400, 'max_depth': 9},\n",
       "  mean: 0.98088, std: 0.00104, params: {'min_samples_split': 600, 'max_depth': 9},\n",
       "  mean: 0.98008, std: 0.00056, params: {'min_samples_split': 800, 'max_depth': 9}],\n",
       " {'max_depth': 9, 'min_samples_split': 200},\n",
       " 0.9853088523774562)"
      ]
     },
     "execution_count": 2,
     "metadata": {},
     "output_type": "execute_result"
    }
   ],
   "source": [
    "param_test1 = {'max_depth':[5, 7, 9], 'min_samples_split':[200, 400, 600, 800]}\n",
    "gsearch1 = GridSearchCV(estimator = GradientBoostingClassifier(learning_rate=0.01, min_samples_split=500, min_samples_leaf=50, max_depth=8, max_features='sqrt', subsample=0.8, random_state=10), param_grid = param_test1, scoring='accuracy', n_jobs=4, iid=False, cv=3, verbose=3)\n",
    "gsearch1.fit(train[predictors],train[target])\n",
    "gsearch1.grid_scores_, gsearch1.best_params_, gsearch1.best_score_"
   ]
  },
  {
   "cell_type": "code",
   "execution_count": 4,
   "metadata": {},
   "outputs": [
    {
     "name": "stdout",
     "output_type": "stream",
     "text": [
      "Fitting 5 folds for each of 36 candidates, totalling 180 fits\n"
     ]
    },
    {
     "name": "stderr",
     "output_type": "stream",
     "text": [
      "[Parallel(n_jobs=4)]: Done  24 tasks      | elapsed:  8.5min\n",
      "[Parallel(n_jobs=4)]: Done 120 tasks      | elapsed: 37.2min\n",
      "[Parallel(n_jobs=4)]: Done 180 out of 180 | elapsed: 63.6min finished\n"
     ]
    },
    {
     "data": {
      "text/plain": [
       "([mean: 0.98901, std: 0.00169, params: {'n_estimators': 100, 'min_samples_leaf': 20},\n",
       "  mean: 0.98994, std: 0.00175, params: {'n_estimators': 120, 'min_samples_leaf': 20},\n",
       "  mean: 0.99029, std: 0.00201, params: {'n_estimators': 140, 'min_samples_leaf': 20},\n",
       "  mean: 0.99083, std: 0.00175, params: {'n_estimators': 160, 'min_samples_leaf': 20},\n",
       "  mean: 0.99129, std: 0.00169, params: {'n_estimators': 180, 'min_samples_leaf': 20},\n",
       "  mean: 0.99169, std: 0.00154, params: {'n_estimators': 200, 'min_samples_leaf': 20},\n",
       "  mean: 0.98767, std: 0.00255, params: {'n_estimators': 100, 'min_samples_leaf': 30},\n",
       "  mean: 0.98901, std: 0.00142, params: {'n_estimators': 120, 'min_samples_leaf': 30},\n",
       "  mean: 0.98998, std: 0.00158, params: {'n_estimators': 140, 'min_samples_leaf': 30},\n",
       "  mean: 0.99006, std: 0.00143, params: {'n_estimators': 160, 'min_samples_leaf': 30},\n",
       "  mean: 0.99080, std: 0.00133, params: {'n_estimators': 180, 'min_samples_leaf': 30},\n",
       "  mean: 0.99113, std: 0.00119, params: {'n_estimators': 200, 'min_samples_leaf': 30},\n",
       "  mean: 0.98678, std: 0.00191, params: {'n_estimators': 100, 'min_samples_leaf': 40},\n",
       "  mean: 0.98794, std: 0.00132, params: {'n_estimators': 120, 'min_samples_leaf': 40},\n",
       "  mean: 0.98879, std: 0.00149, params: {'n_estimators': 140, 'min_samples_leaf': 40},\n",
       "  mean: 0.98932, std: 0.00131, params: {'n_estimators': 160, 'min_samples_leaf': 40},\n",
       "  mean: 0.98979, std: 0.00145, params: {'n_estimators': 180, 'min_samples_leaf': 40},\n",
       "  mean: 0.99032, std: 0.00129, params: {'n_estimators': 200, 'min_samples_leaf': 40},\n",
       "  mean: 0.98583, std: 0.00205, params: {'n_estimators': 100, 'min_samples_leaf': 50},\n",
       "  mean: 0.98631, std: 0.00222, params: {'n_estimators': 120, 'min_samples_leaf': 50},\n",
       "  mean: 0.98751, std: 0.00231, params: {'n_estimators': 140, 'min_samples_leaf': 50},\n",
       "  mean: 0.98851, std: 0.00152, params: {'n_estimators': 160, 'min_samples_leaf': 50},\n",
       "  mean: 0.98922, std: 0.00117, params: {'n_estimators': 180, 'min_samples_leaf': 50},\n",
       "  mean: 0.98988, std: 0.00107, params: {'n_estimators': 200, 'min_samples_leaf': 50},\n",
       "  mean: 0.98527, std: 0.00281, params: {'n_estimators': 100, 'min_samples_leaf': 60},\n",
       "  mean: 0.98663, std: 0.00222, params: {'n_estimators': 120, 'min_samples_leaf': 60},\n",
       "  mean: 0.98766, std: 0.00193, params: {'n_estimators': 140, 'min_samples_leaf': 60},\n",
       "  mean: 0.98811, std: 0.00176, params: {'n_estimators': 160, 'min_samples_leaf': 60},\n",
       "  mean: 0.98850, std: 0.00185, params: {'n_estimators': 180, 'min_samples_leaf': 60},\n",
       "  mean: 0.98958, std: 0.00117, params: {'n_estimators': 200, 'min_samples_leaf': 60},\n",
       "  mean: 0.98539, std: 0.00279, params: {'n_estimators': 100, 'min_samples_leaf': 70},\n",
       "  mean: 0.98612, std: 0.00227, params: {'n_estimators': 120, 'min_samples_leaf': 70},\n",
       "  mean: 0.98712, std: 0.00155, params: {'n_estimators': 140, 'min_samples_leaf': 70},\n",
       "  mean: 0.98792, std: 0.00174, params: {'n_estimators': 160, 'min_samples_leaf': 70},\n",
       "  mean: 0.98848, std: 0.00138, params: {'n_estimators': 180, 'min_samples_leaf': 70},\n",
       "  mean: 0.98903, std: 0.00095, params: {'n_estimators': 200, 'min_samples_leaf': 70}],\n",
       " {'min_samples_leaf': 20, 'n_estimators': 200},\n",
       " 0.9916949850665821)"
      ]
     },
     "execution_count": 4,
     "metadata": {},
     "output_type": "execute_result"
    }
   ],
   "source": [
    "param_test2 = {'n_estimators':[100, 120, 140, 160, 180, 200], 'min_samples_leaf':[20, 30, 40, 50, 60, 70] }\n",
    "gsearch2 = GridSearchCV(estimator = GradientBoostingClassifier(learning_rate=0.01, min_samples_split=200, min_samples_leaf=50, max_depth=9, max_features='sqrt', subsample=0.8, random_state=10), param_grid = param_test2, scoring='accuracy', n_jobs=4, iid=False, cv=5, verbose=3)\n",
    "gsearch2.fit(train[predictors],train[target])\n",
    "gsearch2.grid_scores_, gsearch2.best_params_, gsearch2.best_score_"
   ]
  },
  {
   "cell_type": "code",
   "execution_count": 9,
   "metadata": {},
   "outputs": [
    {
     "data": {
      "text/plain": [
       "<matplotlib.text.Text at 0x21a4f0b8>"
      ]
     },
     "execution_count": 9,
     "metadata": {},
     "output_type": "execute_result"
    },
    {
     "data": {
      "image/png": "[encoded data removed]",
      "text/plain": [
       "<matplotlib.figure.Figure at 0xae93390>"
      ]
     },
     "metadata": {},
     "output_type": "display_data"
    }
   ],
   "source": [
    "import matplotlib.pyplot as plt\n",
    "import seaborn as sb\n",
    "%matplotlib inline\n",
    "grid_visualization1 = []\n",
    "\n",
    "for grid_pair in gsearch1.grid_scores_:\n",
    "    grid_visualization1.append(grid_pair.mean_validation_score)\n",
    "    \n",
    "grid_visualization1 = np.array(grid_visualization1)\n",
    "grid_visualization1.shape = (3, 4)\n",
    "sb.heatmap(grid_visualization1, cmap='Blues')\n",
    "plt.xticks(np.arange(4) + 0.5, gsearch1.param_grid['min_samples_split'])\n",
    "plt.yticks(np.arange(3) + 0.5, gsearch1.param_grid['max_depth'][::-1])\n",
    "plt.xlabel('min_samples_split')\n",
    "plt.ylabel('max_depth')"
   ]
  },
  {
   "cell_type": "code",
   "execution_count": 8,
   "metadata": {},
   "outputs": [
    {
     "data": {
      "text/plain": [
       "<matplotlib.text.Text at 0x20a8f0b3>"
      ]
     },
     "execution_count": 8,
     "metadata": {},
     "output_type": "execute_result"
    },
    {
     "data": {
      "image/png": "[encoded data removed]",
      "text/plain": [
       "<matplotlib.figure.Figure at 0x128bb828>"
      ]
     },
     "metadata": {},
     "output_type": "display_data"
    }
   ],
   "source": [
    "grid_visualization2 = []\n",
    "for grid_pair in gsearch2.grid_scores_:\n",
    "    grid_visualization2.append(grid_pair.mean_validation_score)\n",
    "grid_visualization2 = np.array(grid_visualization2)\n",
    "grid_visualization2.shape = (6, 6)\n",
    "sb.heatmap(grid_visualization2, cmap='Blues')\n",
    "plt.xticks(np.arange(6) + 0.5, gsearch2.param_grid['n_estimators'])\n",
    "plt.yticks(np.arange(6) + 0.5, gsearch2.param_grid['min_samples_leaf'][::-1])\n",
    "plt.xlabel('n_estimators')\n",
    "plt.ylabel('n_samples_leaf')"
   ]
  },
  {
   "cell_type": "code",
   "execution_count": null,
   "metadata": {
    "collapsed": true
   },
   "outputs": [],
   "source": []
  }
 ],
 "metadata": {
  "kernelspec": {
   "display_name": "Python 2",
   "language": "python",
   "name": "python2"
  },
  "language_info": {
   "codemirror_mode": {
    "name": "ipython",
    "version": 2
   },
   "file_extension": ".py",
   "mimetype": "text/x-python",
   "name": "python",
   "nbconvert_exporter": "python",
   "pygments_lexer": "ipython2",
   "version": "2.7.13"
  }
 },
 "nbformat": 4,
 "nbformat_minor": 2
}
